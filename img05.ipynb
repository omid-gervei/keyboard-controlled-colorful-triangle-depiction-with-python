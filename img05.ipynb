{
 "cells": [
  {
   "cell_type": "code",
   "execution_count": 1,
   "id": "56e4a5d6",
   "metadata": {},
   "outputs": [],
   "source": [
    "import numpy as np\n",
    "import argparse\n",
    "import cv2\n",
    "import matplotlib.pyplot as plt"
   ]
  },
  {
   "cell_type": "code",
   "execution_count": 2,
   "id": "03859f69",
   "metadata": {},
   "outputs": [],
   "source": [
    "color = (0,255,0)\n",
    "def draw_triangle(event,x,y,flags,param):\n",
    "    if event == cv2.EVENT_LBUTTONDOWN:\n",
    "        cv2.drawContours(image, [np.array( [(x,y), (x-20,y+20), (x+20,y+20)])], 0, color, -1)\n",
    "\n",
    "image = np.zeros((512,512,3), np.uint8)\n",
    "\n",
    "cv2.namedWindow('image')\n",
    "cv2.setMouseCallback('image', draw_triangle)\n",
    "\n",
    "\n",
    "while True:\n",
    "    cv2.imshow('image', image)\n",
    "    k = cv2.waitKey(1) & 0xff\n",
    "    if k == ord('b'):\n",
    "        color = (255,0,0)\n",
    "    elif k == ord('g'):\n",
    "        color = (0,255,0)\n",
    "    elif k== ord('r'):\n",
    "        color = (0,0,255)\n",
    "    elif k== 27 & 0xff:\n",
    "        break\n",
    "cv2.destroyAllWindows()"
   ]
  },
  {
   "cell_type": "code",
   "execution_count": null,
   "id": "d3bcf201",
   "metadata": {},
   "outputs": [],
   "source": []
  }
 ],
 "metadata": {
  "kernelspec": {
   "display_name": "Python 3 (ipykernel)",
   "language": "python",
   "name": "python3"
  },
  "language_info": {
   "codemirror_mode": {
    "name": "ipython",
    "version": 3
   },
   "file_extension": ".py",
   "mimetype": "text/x-python",
   "name": "python",
   "nbconvert_exporter": "python",
   "pygments_lexer": "ipython3",
   "version": "3.11.4"
  }
 },
 "nbformat": 4,
 "nbformat_minor": 5
}
